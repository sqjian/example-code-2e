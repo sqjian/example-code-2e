{
 "cells": [
  {
   "cell_type": "code",
   "id": "initial_id",
   "metadata": {
    "collapsed": true,
    "ExecuteTime": {
     "end_time": "2024-04-06T09:16:14.647762Z",
     "start_time": "2024-04-06T09:16:14.639367Z"
    }
   },
   "source": "a=1",
   "outputs": [],
   "execution_count": 4
  },
  {
   "metadata": {
    "ExecuteTime": {
     "end_time": "2024-04-06T09:16:43.767675Z",
     "start_time": "2024-04-06T09:16:43.750328Z"
    }
   },
   "cell_type": "code",
   "source": "%who",
   "id": "28a4fe59c98aac9",
   "outputs": [
    {
     "name": "stdout",
     "output_type": "stream",
     "text": [
      "a\t pydev_jupyter_vars\t remove_imported_pydev_package\t sys\t \n"
     ]
    }
   ],
   "execution_count": 8
  }
 ],
 "metadata": {
  "kernelspec": {
   "display_name": "Python 3",
   "language": "python",
   "name": "python3"
  },
  "language_info": {
   "codemirror_mode": {
    "name": "ipython",
    "version": 2
   },
   "file_extension": ".py",
   "mimetype": "text/x-python",
   "name": "python",
   "nbconvert_exporter": "python",
   "pygments_lexer": "ipython2",
   "version": "2.7.6"
  }
 },
 "nbformat": 4,
 "nbformat_minor": 5
}
